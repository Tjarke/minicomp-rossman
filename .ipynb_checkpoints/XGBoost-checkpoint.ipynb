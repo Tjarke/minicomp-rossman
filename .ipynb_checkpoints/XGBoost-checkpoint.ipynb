{
 "cells": [
  {
   "cell_type": "code",
   "execution_count": 7,
   "metadata": {},
   "outputs": [],
   "source": [
    "import pandas as pd\n",
    "import numpy as np\n",
    "from matplotlib import pyplot as plt\n",
    "import seaborn as sns\n",
    "from sklearn.preprocessing import LabelEncoder\n",
    "import category_encoders as ce\n",
    "from cleaning_functions_v2 import clean_complete\n",
    "# from RMSPE import RMSPE\n",
    "import time\n",
    "\n",
    "\n",
    "import xgboost as xgb"
   ]
  },
  {
   "cell_type": "code",
   "execution_count": 8,
   "metadata": {},
   "outputs": [],
   "source": [
    "def RMSPE(y_true, y_pred):\n",
    "    \"\"\"\n",
    "    Calculate the root mean square percentage error\n",
    "\n",
    "    INPUT:\n",
    "    y_true: true values for the target variable\n",
    "    y_pred: predicted values for the target variable\n",
    "\n",
    "    OUTPUT:\n",
    "    Value between 0 and 1, where 0 is the best and\n",
    "    \"\"\"\n",
    "    y_difference = np.square((y_true - y_pred)/y_true)\n",
    "    RMSPE = np.sqrt(np.mean(y_difference))\n",
    "    return RMSPE"
   ]
  },
  {
   "cell_type": "code",
   "execution_count": 17,
   "metadata": {},
   "outputs": [
    {
     "name": "stderr",
     "output_type": "stream",
     "text": [
      "/home/tjarke/anaconda3/envs/minichallenge/lib/python3.8/site-packages/IPython/core/interactiveshell.py:3145: DtypeWarning: Columns (7) have mixed types.Specify dtype option on import or set low_memory=False.\n",
      "  has_raised = await self.run_ast_nodes(code_ast.body, cell_name,\n",
      "/home/tjarke/anaconda3/envs/minichallenge/lib/python3.8/site-packages/category_encoders/utils.py:21: FutureWarning: is_categorical is deprecated and will be removed in a future version.  Use is_categorical_dtype instead\n",
      "  elif pd.api.types.is_categorical(cols):\n",
      "/home/tjarke/anaconda3/envs/minichallenge/lib/python3.8/site-packages/pandas/core/indexing.py:1736: SettingWithCopyWarning: \n",
      "A value is trying to be set on a copy of a slice from a DataFrame.\n",
      "Try using .loc[row_indexer,col_indexer] = value instead\n",
      "\n",
      "See the caveats in the documentation: https://pandas.pydata.org/pandas-docs/stable/user_guide/indexing.html#returning-a-view-versus-a-copy\n",
      "  isetter(loc, value[:, i].tolist())\n",
      "/home/tjarke/anaconda3/envs/minichallenge/lib/python3.8/site-packages/pandas/core/indexing.py:1736: SettingWithCopyWarning: \n",
      "A value is trying to be set on a copy of a slice from a DataFrame.\n",
      "Try using .loc[row_indexer,col_indexer] = value instead\n",
      "\n",
      "See the caveats in the documentation: https://pandas.pydata.org/pandas-docs/stable/user_guide/indexing.html#returning-a-view-versus-a-copy\n",
      "  isetter(loc, value[:, i].tolist())\n"
     ]
    }
   ],
   "source": [
    "store_data = pd.read_csv(\"./data/store.csv\")\n",
    "train_data = pd.read_csv(\"./data/train.csv\")\n",
    "X_train,y_train,X_test,y_test = clean_complete(store_data,train_data)\n",
    "\n",
    "X_train[\"Week\"] = X_train[\"Week\"].astype(int)\n",
    "X_test[\"Week\"] = X_test[\"Week\"].astype(int)"
   ]
  },
  {
   "cell_type": "code",
   "execution_count": 18,
   "metadata": {},
   "outputs": [],
   "source": [
    "parameters = {\"learning_rate = \":[0.1,0.2,0.3,0.4],\"n_estimators = \":[100,200,300,400]}"
   ]
  },
  {
   "cell_type": "code",
   "execution_count": 19,
   "metadata": {},
   "outputs": [],
   "source": [
    "def xg_gridsearch(X_train,y_train,X_test,y_test,parameters):\n",
    "    keys = []\n",
    "    \n",
    "    for i in parameters:\n",
    "        keys.append(i)\n",
    "    \n",
    "    rmspe_best = 1\n",
    "#     rmspe_train_best = 1\n",
    "#     best_parameter_1 = 0\n",
    "#     best_parameter_2 = 0\n",
    "    \n",
    "    \n",
    "    for i in parameters[keys[0]]:\n",
    "        for j in parameters[keys[1]]:\n",
    "            xgbr = xgb.XGBRegressor(max_depth=5,learning_rate=i ,n_estimators=j,reg_lambda = 5,subsample = 0.8)           \n",
    "            xgbr.fit(X_train,y_train)\n",
    "            y_predict = xgbr.predict(X_test)\n",
    "            rmspe_p = RMSPE(y_test,y_predict)\n",
    "            y_train_error = xgbr.predict(X_train)\n",
    "            rmspe_t = RMSPE(y_train,y_train_error)\n",
    "            print(f\"Model: {keys[0]} {i} and {keys[1]} {j} gives a train rmspe of {round(rmspe_t,3)} and a test rmspe of {round(rmspe_p,3)}\")\n",
    "            print(\"__________________________________________________________________\")\n",
    "            if rmspe_best > rmspe_p:\n",
    "                rmspe_best = rmspe_p\n",
    "                rmspe_train_best = rmspe_t\n",
    "                best_parameter_1 = i\n",
    "                best_parameter_2 = j\n",
    "    print(f\"The best combination is {keys[0]} {best_parameter_1} and {keys[1]} {best_parameter_2} and gives a train rmspe of {round(rmspe_train_best,3)} and a test rmspe of {round(rmspe_best,3)}\")"
   ]
  },
  {
   "cell_type": "code",
   "execution_count": 20,
   "metadata": {},
   "outputs": [
    {
     "name": "stdout",
     "output_type": "stream",
     "text": [
      "Model: learning_rate =  0.1 and n_estimators =  100 gives a train rmspe of 0.349 and a test rmspe of 0.315\n",
      "__________________________________________________________________\n",
      "Model: learning_rate =  0.1 and n_estimators =  200 gives a train rmspe of 0.286 and a test rmspe of 0.265\n",
      "__________________________________________________________________\n",
      "Model: learning_rate =  0.1 and n_estimators =  300 gives a train rmspe of 0.247 and a test rmspe of 0.234\n",
      "__________________________________________________________________\n",
      "Model: learning_rate =  0.1 and n_estimators =  400 gives a train rmspe of 0.222 and a test rmspe of 0.215\n",
      "__________________________________________________________________\n",
      "Model: learning_rate =  0.2 and n_estimators =  100 gives a train rmspe of 0.284 and a test rmspe of 0.265\n",
      "__________________________________________________________________\n",
      "Model: learning_rate =  0.2 and n_estimators =  200 gives a train rmspe of 0.221 and a test rmspe of 0.219\n",
      "__________________________________________________________________\n",
      "Model: learning_rate =  0.2 and n_estimators =  300 gives a train rmspe of 0.188 and a test rmspe of 0.195\n",
      "__________________________________________________________________\n",
      "Model: learning_rate =  0.2 and n_estimators =  400 gives a train rmspe of 0.17 and a test rmspe of 0.185\n",
      "__________________________________________________________________\n",
      "Model: learning_rate =  0.3 and n_estimators =  100 gives a train rmspe of 0.236 and a test rmspe of 0.224\n",
      "__________________________________________________________________\n",
      "Model: learning_rate =  0.3 and n_estimators =  200 gives a train rmspe of 0.185 and a test rmspe of 0.189\n",
      "__________________________________________________________________\n",
      "Model: learning_rate =  0.3 and n_estimators =  300 gives a train rmspe of 0.163 and a test rmspe of 0.179\n",
      "__________________________________________________________________\n",
      "Model: learning_rate =  0.3 and n_estimators =  400 gives a train rmspe of 0.152 and a test rmspe of 0.174\n",
      "__________________________________________________________________\n",
      "Model: learning_rate =  0.4 and n_estimators =  100 gives a train rmspe of 0.217 and a test rmspe of 0.218\n",
      "__________________________________________________________________\n",
      "Model: learning_rate =  0.4 and n_estimators =  200 gives a train rmspe of 0.167 and a test rmspe of 0.187\n",
      "__________________________________________________________________\n",
      "Model: learning_rate =  0.4 and n_estimators =  300 gives a train rmspe of 0.152 and a test rmspe of 0.181\n",
      "__________________________________________________________________\n",
      "Model: learning_rate =  0.4 and n_estimators =  400 gives a train rmspe of 0.143 and a test rmspe of 0.177\n",
      "__________________________________________________________________\n",
      "The best combination is learning_rate =  0.3 and n_estimators =  400 and gives a train rmspe of 0.152 and a test rmspe of 0.174\n"
     ]
    }
   ],
   "source": [
    "xg_gridsearch(X_train,y_train,X_test,y_test,parameters)"
   ]
  },
  {
   "cell_type": "code",
   "execution_count": null,
   "metadata": {},
   "outputs": [],
   "source": []
  },
  {
   "cell_type": "code",
   "execution_count": null,
   "metadata": {},
   "outputs": [],
   "source": []
  }
 ],
 "metadata": {
  "kernelspec": {
   "display_name": "Python 3",
   "language": "python",
   "name": "python3"
  },
  "language_info": {
   "codemirror_mode": {
    "name": "ipython",
    "version": 3
   },
   "file_extension": ".py",
   "mimetype": "text/x-python",
   "name": "python",
   "nbconvert_exporter": "python",
   "pygments_lexer": "ipython3",
   "version": "3.8.5"
  }
 },
 "nbformat": 4,
 "nbformat_minor": 4
}
