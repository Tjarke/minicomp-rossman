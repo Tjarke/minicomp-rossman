{
 "cells": [
  {
   "cell_type": "markdown",
   "metadata": {},
   "source": [
    "# Using Gradient Boosting Trees to predict the sales of Rossman\n",
    "\n",
    "In this notebook you will use a pre-trained Gradient Boosting Tree model to predict the sales of Rossman stores based on historical data. The accuracy of the model is meassured in the RMSPR at the end of the notebook. It is pretty easy, just run each cell after each other.  "
   ]
  },
  {
   "cell_type": "code",
   "execution_count": 1,
   "metadata": {},
   "outputs": [],
   "source": [
    "# import all necessary libraries\n",
    "\n",
    "import category_encoders as ce\n",
    "import numpy as np\n",
    "import pandas as pd\n",
    "import pickle\n",
    "from sklearn.preprocessing import LabelEncoder\n",
    "from sklearn.preprocessing import StandardScaler\n",
    "from sklearn.model_selection import train_test_split\n",
    "from xgboost import XGBRegressor"
   ]
  },
  {
   "cell_type": "code",
   "execution_count": 2,
   "metadata": {},
   "outputs": [
    {
     "name": "stderr",
     "output_type": "stream",
     "text": [
      "C:\\Users\\Juan\\anaconda3\\envs\\MiniComp\\lib\\site-packages\\IPython\\core\\interactiveshell.py:3145: DtypeWarning: Columns (7) have mixed types.Specify dtype option on import or set low_memory=False.\n",
      "  has_raised = await self.run_ast_nodes(code_ast.body, cell_name,\n"
     ]
    }
   ],
   "source": [
    "# import the dataset as a cvs file\n",
    "\n",
    "dataset_path = './data/test.csv'\n",
    "df_test = pd.read_csv(dataset_path)\n",
    "df_store = pd.read_csv('./data/store.csv')"
   ]
  },
  {
   "cell_type": "code",
   "execution_count": 3,
   "metadata": {},
   "outputs": [],
   "source": [
    "# import the cleaning pipeline script to clean the raw data\n",
    "\n",
    "from Rossman_cleaning_pipeline import clean_complete_test"
   ]
  },
  {
   "cell_type": "code",
   "execution_count": 4,
   "metadata": {},
   "outputs": [
    {
     "name": "stderr",
     "output_type": "stream",
     "text": [
      "C:\\Users\\Juan\\anaconda3\\envs\\MiniComp\\lib\\site-packages\\category_encoders\\utils.py:21: FutureWarning: is_categorical is deprecated and will be removed in a future version.  Use is_categorical_dtype instead\n",
      "  elif pd.api.types.is_categorical(cols):\n"
     ]
    }
   ],
   "source": [
    "# clean the data\n",
    "\n",
    "feature_matrix, true_sales = clean_complete_test(df_store, df_test)"
   ]
  },
  {
   "cell_type": "code",
   "execution_count": 5,
   "metadata": {},
   "outputs": [],
   "source": [
    "# import the pre-trained model\n",
    "\n",
    "model_filename = 'XGboosted_tree_model.pickle'\n",
    "with open(model_filename, 'rb') as handle:\n",
    "    XG_boost_model = pickle.load(handle)"
   ]
  },
  {
   "cell_type": "code",
   "execution_count": 6,
   "metadata": {},
   "outputs": [],
   "source": [
    "# Predict the sales values and save them as a variable\n",
    "\n",
    "pred_sales = XG_boost_model.predict(feature_matrix)"
   ]
  },
  {
   "cell_type": "code",
   "execution_count": 7,
   "metadata": {},
   "outputs": [],
   "source": [
    "# Define metrics\n",
    "\n",
    "def RMSPE(y_true, y_pred):\n",
    "    \"\"\"\n",
    "    Calculate the root mean square percentage error\n",
    "    INPUT:\n",
    "    y_true: true values for the target variable\n",
    "    y_pred: predicted values for the target variable\n",
    "    OUTPUT:\n",
    "    Value between 0 and 1, where 0 is the best and\n",
    "    \"\"\"\n",
    "    y_difference = np.square((y_true - y_pred)/y_true)\n",
    "    RMSPE = np.sqrt(np.mean(y_difference))\n",
    "    return RMSPE"
   ]
  },
  {
   "cell_type": "code",
   "execution_count": 8,
   "metadata": {},
   "outputs": [
    {
     "data": {
      "text/plain": [
       "0.26546262021877537"
      ]
     },
     "execution_count": 8,
     "metadata": {},
     "output_type": "execute_result"
    }
   ],
   "source": [
    "# calculate the RMSPE\n",
    "\n",
    "RMSPE(true_sales, pred_sales)"
   ]
  }
 ],
 "metadata": {
  "kernelspec": {
   "display_name": "Python 3",
   "language": "python",
   "name": "python3"
  },
  "language_info": {
   "codemirror_mode": {
    "name": "ipython",
    "version": 3
   },
   "file_extension": ".py",
   "mimetype": "text/x-python",
   "name": "python",
   "nbconvert_exporter": "python",
   "pygments_lexer": "ipython3",
   "version": "3.8.5"
  }
 },
 "nbformat": 4,
 "nbformat_minor": 4
}
