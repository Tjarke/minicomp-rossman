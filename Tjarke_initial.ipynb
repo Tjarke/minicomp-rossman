{
 "cells": [
  {
   "cell_type": "code",
   "execution_count": 1,
   "metadata": {},
   "outputs": [],
   "source": [
    "import pandas as pd\n",
    "import numpy as np\n",
    "from matplotlib import pyplot as plt"
   ]
  },
  {
   "cell_type": "code",
   "execution_count": 2,
   "metadata": {},
   "outputs": [],
   "source": [
    "store_data = pd.read_csv(\"./data/store.csv\",index_col=0)"
   ]
  },
  {
   "cell_type": "code",
   "execution_count": 3,
   "metadata": {},
   "outputs": [
    {
     "name": "stderr",
     "output_type": "stream",
     "text": [
      "/home/tjarke/anaconda3/envs/minichallenge/lib/python3.8/site-packages/IPython/core/interactiveshell.py:3145: DtypeWarning: Columns (7) have mixed types.Specify dtype option on import or set low_memory=False.\n",
      "  has_raised = await self.run_ast_nodes(code_ast.body, cell_name,\n"
     ]
    }
   ],
   "source": [
    "train_data = pd.read_csv(\"./data/train.csv\")"
   ]
  },
  {
   "cell_type": "code",
   "execution_count": 4,
   "metadata": {},
   "outputs": [
    {
     "data": {
      "text/plain": [
       "0      535644\n",
       "0.0     63583\n",
       "a       12798\n",
       "b        4335\n",
       "c        2160\n",
       "Name: StateHoliday, dtype: int64"
      ]
     },
     "execution_count": 4,
     "metadata": {},
     "output_type": "execute_result"
    }
   ],
   "source": [
    "train_data[\"StateHoliday\"].value_counts()"
   ]
  },
  {
   "cell_type": "code",
   "execution_count": 5,
   "metadata": {},
   "outputs": [
    {
     "data": {
      "text/plain": [
       "(637774, 9)"
      ]
     },
     "execution_count": 5,
     "metadata": {},
     "output_type": "execute_result"
    }
   ],
   "source": [
    "train_data.shape"
   ]
  },
  {
   "cell_type": "code",
   "execution_count": 6,
   "metadata": {},
   "outputs": [
    {
     "data": {
      "text/plain": [
       "(1115, 9)"
      ]
     },
     "execution_count": 6,
     "metadata": {},
     "output_type": "execute_result"
    }
   ],
   "source": [
    "store_data.shape"
   ]
  },
  {
   "cell_type": "markdown",
   "metadata": {},
   "source": [
    "We do not have data for each store every day as you can see here:"
   ]
  },
  {
   "cell_type": "code",
   "execution_count": 9,
   "metadata": {},
   "outputs": [
    {
     "data": {
      "text/plain": [
       "571.9946188340807"
      ]
     },
     "execution_count": 9,
     "metadata": {},
     "output_type": "execute_result"
    }
   ],
   "source": [
    "train_data.shape[0] / store_data.shape[0]"
   ]
  },
  {
   "cell_type": "code",
   "execution_count": 10,
   "metadata": {},
   "outputs": [
    {
     "data": {
      "text/plain": [
       "Date             False\n",
       "Store             True\n",
       "DayOfWeek         True\n",
       "Sales             True\n",
       "Customers         True\n",
       "Open              True\n",
       "Promo             True\n",
       "StateHoliday      True\n",
       "SchoolHoliday     True\n",
       "dtype: bool"
      ]
     },
     "execution_count": 10,
     "metadata": {},
     "output_type": "execute_result"
    }
   ],
   "source": [
    "train_data.isnull().any()"
   ]
  },
  {
   "cell_type": "code",
   "execution_count": 11,
   "metadata": {},
   "outputs": [
    {
     "data": {
      "text/plain": [
       "StoreType                    False\n",
       "Assortment                   False\n",
       "CompetitionDistance           True\n",
       "CompetitionOpenSinceMonth     True\n",
       "CompetitionOpenSinceYear      True\n",
       "Promo2                       False\n",
       "Promo2SinceWeek               True\n",
       "Promo2SinceYear               True\n",
       "PromoInterval                 True\n",
       "dtype: bool"
      ]
     },
     "execution_count": 11,
     "metadata": {},
     "output_type": "execute_result"
    }
   ],
   "source": [
    "store_data.isnull().any()"
   ]
  },
  {
   "cell_type": "code",
   "execution_count": 15,
   "metadata": {},
   "outputs": [
    {
     "name": "stdout",
     "output_type": "stream",
     "text": [
      "the nuber of nan rows for Date is 0 and therefore nan is 0.0 %\n",
      "the nuber of nan rows for Store is 19301 and therefore nan is 3.03 %\n",
      "the nuber of nan rows for DayOfWeek is 19017 and therefore nan is 2.98 %\n",
      "the nuber of nan rows for Sales is 19027 and therefore nan is 2.98 %\n",
      "the nuber of nan rows for Customers is 19091 and therefore nan is 2.99 %\n",
      "the nuber of nan rows for Open is 19186 and therefore nan is 3.01 %\n",
      "the nuber of nan rows for Promo is 19194 and therefore nan is 3.01 %\n",
      "the nuber of nan rows for StateHoliday is 19254 and therefore nan is 3.02 %\n",
      "the nuber of nan rows for SchoolHoliday is 19337 and therefore nan is 3.03 %\n"
     ]
    }
   ],
   "source": [
    "for i in train_data:\n",
    "    number_nan_rows = train_data.shape[0] - train_data.loc[~train_data.loc[:,i].isnull(),i].shape[0]\n",
    "    percent_nan = number_nan_rows/train_data.shape[0]*100\n",
    "    print(f\"the nuber of nan rows for {i} is {number_nan_rows} and therefore nan is {round(percent_nan,2)} %\")"
   ]
  },
  {
   "cell_type": "code",
   "execution_count": 16,
   "metadata": {},
   "outputs": [
    {
     "name": "stdout",
     "output_type": "stream",
     "text": [
      "the nuber of nan rows for StoreType is 0 and therefore nan is 0.0 %\n",
      "the nuber of nan rows for Assortment is 0 and therefore nan is 0.0 %\n",
      "the nuber of nan rows for CompetitionDistance is 3 and therefore nan is 0.27 %\n",
      "the nuber of nan rows for CompetitionOpenSinceMonth is 354 and therefore nan is 31.75 %\n",
      "the nuber of nan rows for CompetitionOpenSinceYear is 354 and therefore nan is 31.75 %\n",
      "the nuber of nan rows for Promo2 is 0 and therefore nan is 0.0 %\n",
      "the nuber of nan rows for Promo2SinceWeek is 544 and therefore nan is 48.79 %\n",
      "the nuber of nan rows for Promo2SinceYear is 544 and therefore nan is 48.79 %\n",
      "the nuber of nan rows for PromoInterval is 544 and therefore nan is 48.79 %\n"
     ]
    }
   ],
   "source": [
    "for i in store_data:\n",
    "    number_nan_rows = store_data.shape[0] - store_data.loc[~store_data.loc[:,i].isnull(),i].shape[0]\n",
    "    percent_nan = number_nan_rows/store_data.shape[0]*100\n",
    "    print(f\"the nuber of nan rows for {i} is {number_nan_rows} and therefore nan is {round(percent_nan,2)} %\")"
   ]
  },
  {
   "cell_type": "markdown",
   "metadata": {},
   "source": [
    "From the Nan values: For initial exploration drop columns :\n",
    "\n",
    "CompetitionOpenSinceMonth is 354 and therefore nan is 31.75 %\n",
    "CompetitionOpenSinceYear is 354 and therefore nan is 31.75 %\n",
    "\n",
    "\n",
    "\n",
    "Promo2SinceWeek is 544 and therefore nan is 48.79 %\n",
    "Promo2SinceYear is 544 and therefore nan is 48.79 %\n",
    "PromoInterval is 544 and therefore nan is 48.79 %\n"
   ]
  },
  {
   "cell_type": "code",
   "execution_count": null,
   "metadata": {},
   "outputs": [],
   "source": []
  },
  {
   "cell_type": "code",
   "execution_count": null,
   "metadata": {},
   "outputs": [],
   "source": []
  },
  {
   "cell_type": "code",
   "execution_count": null,
   "metadata": {},
   "outputs": [],
   "source": []
  }
 ],
 "metadata": {
  "kernelspec": {
   "display_name": "Python 3",
   "language": "python",
   "name": "python3"
  },
  "language_info": {
   "codemirror_mode": {
    "name": "ipython",
    "version": 3
   },
   "file_extension": ".py",
   "mimetype": "text/x-python",
   "name": "python",
   "nbconvert_exporter": "python",
   "pygments_lexer": "ipython3",
   "version": "3.8.5"
  }
 },
 "nbformat": 4,
 "nbformat_minor": 4
}
